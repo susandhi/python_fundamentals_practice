{
 "cells": [
  {
   "cell_type": "code",
   "execution_count": 15,
   "metadata": {},
   "outputs": [],
   "source": [
    "# Variables in Python"
   ]
  },
  {
   "cell_type": "code",
   "execution_count": 4,
   "metadata": {},
   "outputs": [],
   "source": [
    "x = 5    # assigning values to variable 'x'\n",
    "y = 2    # assigning values to variable 'y'"
   ]
  },
  {
   "cell_type": "code",
   "execution_count": 5,
   "metadata": {},
   "outputs": [
    {
     "data": {
      "text/plain": [
       "7"
      ]
     },
     "execution_count": 5,
     "metadata": {},
     "output_type": "execute_result"
    }
   ],
   "source": [
    "x + y    # addition operation"
   ]
  },
  {
   "cell_type": "code",
   "execution_count": 6,
   "metadata": {},
   "outputs": [],
   "source": [
    "# Rules of declaring variables in Python"
   ]
  },
  {
   "cell_type": "code",
   "execution_count": 7,
   "metadata": {
    "scrolled": true
   },
   "outputs": [
    {
     "ename": "SyntaxError",
     "evalue": "invalid syntax (<ipython-input-7-88b775f33af0>, line 2)",
     "output_type": "error",
     "traceback": [
      "\u001b[1;36m  File \u001b[1;32m\"<ipython-input-7-88b775f33af0>\"\u001b[1;36m, line \u001b[1;32m2\u001b[0m\n\u001b[1;33m    first name = 'susandhi'\u001b[0m\n\u001b[1;37m             ^\u001b[0m\n\u001b[1;31mSyntaxError\u001b[0m\u001b[1;31m:\u001b[0m invalid syntax\n"
     ]
    }
   ],
   "source": [
    "# Rule 1 --> No name spaces allowed in variable declaration\n",
    "first name = 'susandhi'\n",
    "last name = 'pal'"
   ]
  },
  {
   "cell_type": "code",
   "execution_count": 9,
   "metadata": {},
   "outputs": [],
   "source": [
    "# handling with name space --> Option 1\n",
    "first_name = 'susandhi'\n",
    "last_name = 'pal'"
   ]
  },
  {
   "cell_type": "code",
   "execution_count": 10,
   "metadata": {},
   "outputs": [],
   "source": [
    "# handling with name space --> Option 2\n",
    "firstname = 'susandhi'\n",
    "lastname = 'pal'"
   ]
  },
  {
   "cell_type": "code",
   "execution_count": 11,
   "metadata": {},
   "outputs": [
    {
     "ename": "SyntaxError",
     "evalue": "invalid syntax (<ipython-input-11-d24ec0549b3f>, line 2)",
     "output_type": "error",
     "traceback": [
      "\u001b[1;36m  File \u001b[1;32m\"<ipython-input-11-d24ec0549b3f>\"\u001b[1;36m, line \u001b[1;32m2\u001b[0m\n\u001b[1;33m    1st_name = 'susandhi'\u001b[0m\n\u001b[1;37m           ^\u001b[0m\n\u001b[1;31mSyntaxError\u001b[0m\u001b[1;31m:\u001b[0m invalid syntax\n"
     ]
    }
   ],
   "source": [
    "# Rule 2 --> variable name should not start with numbers\n",
    "1st_name = 'susandhi'"
   ]
  },
  {
   "cell_type": "code",
   "execution_count": 12,
   "metadata": {},
   "outputs": [],
   "source": [
    "#but variable name can hold numbers in middle or end.\n",
    "name1 ='susandhi'\n",
    "last2name = 'pal'"
   ]
  },
  {
   "cell_type": "code",
   "execution_count": 14,
   "metadata": {
    "scrolled": true
   },
   "outputs": [
    {
     "ename": "SyntaxError",
     "evalue": "can't assign to operator (<ipython-input-14-ff28333ecac6>, line 2)",
     "output_type": "error",
     "traceback": [
      "\u001b[1;36m  File \u001b[1;32m\"<ipython-input-14-ff28333ecac6>\"\u001b[1;36m, line \u001b[1;32m2\u001b[0m\n\u001b[1;33m    name@first = 'susandhi'\u001b[0m\n\u001b[1;37m                           ^\u001b[0m\n\u001b[1;31mSyntaxError\u001b[0m\u001b[1;31m:\u001b[0m can't assign to operator\n"
     ]
    }
   ],
   "source": [
    "# Rule 3 --> don't use special characters (@, $, &, #, !, etc.) in variable name\n",
    "name@first = 'susandhi'"
   ]
  },
  {
   "cell_type": "code",
   "execution_count": 18,
   "metadata": {},
   "outputs": [],
   "source": [
    "# String datatypes --> A string is a series of characters.\n",
    "# we can use single, double and triple quotes as well for defining a string, choise upon user.\n",
    "name = 'susandhi'\n",
    "name1 = \"susandhi\"\n",
    "first_name = '''susandhi'''\n",
    "last_name = \"\"\"pal\"\"\""
   ]
  },
  {
   "cell_type": "code",
   "execution_count": 19,
   "metadata": {},
   "outputs": [],
   "source": [
    "# Mutable Datatype :--> is the data type which can be changed, modified and re-assigned once it has been created.\n",
    "# Immutable Datatype :--> can't be changed, modified and altered once it is created.\n",
    "\n",
    "# ---** String is a immutable datatype **---"
   ]
  },
  {
   "cell_type": "code",
   "execution_count": 20,
   "metadata": {},
   "outputs": [
    {
     "name": "stdout",
     "output_type": "stream",
     "text": [
      "susandhi pal\n"
     ]
    }
   ],
   "source": [
    "# string methods --> build-in methods\n",
    "name = 'susandhi pal'\n",
    "print(name)"
   ]
  },
  {
   "cell_type": "code",
   "execution_count": 22,
   "metadata": {},
   "outputs": [
    {
     "name": "stdout",
     "output_type": "stream",
     "text": [
      "Susandhi Pal\n",
      "SUSANDHI PAL\n",
      "susandhi pal\n"
     ]
    }
   ],
   "source": [
    "# enhancement\n",
    "print(name.title())   # .title() method converts 1st letter of each word in string to capital\n",
    "print(name.upper())   # .upper() method converts whole string to uppercase\n",
    "print(name.lower())   # .lower() method converts whole string to lowercase"
   ]
  },
  {
   "cell_type": "code",
   "execution_count": 23,
   "metadata": {},
   "outputs": [],
   "source": [
    "# --- Introduction to f string ---\n",
    "#1. fstring allow us to create place holders using curly braces {}\n",
    "#2. custom formatting\n",
    "#3. maintaining relations"
   ]
  },
  {
   "cell_type": "code",
   "execution_count": 33,
   "metadata": {},
   "outputs": [],
   "source": [
    "first_name = 'tony'\n",
    "last_name = 'stark'\n",
    "suffix = '1'"
   ]
  },
  {
   "cell_type": "code",
   "execution_count": 34,
   "metadata": {},
   "outputs": [
    {
     "name": "stdout",
     "output_type": "stream",
     "text": [
      " tony stark1\n"
     ]
    }
   ],
   "source": [
    "full_name = f\" {first_name} {last_name}{suffix}\"\n",
    "print(full_name)"
   ]
  },
  {
   "cell_type": "code",
   "execution_count": 36,
   "metadata": {},
   "outputs": [
    {
     "ename": "SyntaxError",
     "evalue": "invalid syntax (<ipython-input-36-f215b3fcfe89>, line 1)",
     "output_type": "error",
     "traceback": [
      "\u001b[1;36m  File \u001b[1;32m\"<ipython-input-36-f215b3fcfe89>\"\u001b[1;36m, line \u001b[1;32m1\u001b[0m\n\u001b[1;33m    full_name = f \" {first_name} {last_name}\"    #we sholud not give spaces inbetween f and \"\". It should be f\" {place_holder1} {place_holder2}\"\u001b[0m\n\u001b[1;37m                                            ^\u001b[0m\n\u001b[1;31mSyntaxError\u001b[0m\u001b[1;31m:\u001b[0m invalid syntax\n"
     ]
    }
   ],
   "source": [
    "full_name = f \" {first_name} {last_name}\"    #we sholud not give spaces inbetween f and \"\". It should be f\" {place_holder1} {place_holder2}\"\n",
    "print(full_name)"
   ]
  },
  {
   "cell_type": "code",
   "execution_count": 37,
   "metadata": {},
   "outputs": [
    {
     "name": "stdout",
     "output_type": "stream",
     "text": [
      " Tony Stark1\n"
     ]
    }
   ],
   "source": [
    "print(full_name.title())\n",
    "print(full_name.upper())\n",
    "print(full_name.lower())"
   ]
  },
  {
   "cell_type": "code",
   "execution_count": null,
   "metadata": {},
   "outputs": [],
   "source": []
  }
 ],
 "metadata": {
  "kernelspec": {
   "display_name": "Python 3",
   "language": "python",
   "name": "python3"
  },
  "language_info": {
   "codemirror_mode": {
    "name": "ipython",
    "version": 3
   },
   "file_extension": ".py",
   "mimetype": "text/x-python",
   "name": "python",
   "nbconvert_exporter": "python",
   "pygments_lexer": "ipython3",
   "version": "3.7.3"
  }
 },
 "nbformat": 4,
 "nbformat_minor": 2
}
