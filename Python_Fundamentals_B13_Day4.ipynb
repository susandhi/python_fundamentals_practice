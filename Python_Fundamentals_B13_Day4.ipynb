{
 "cells": [
  {
   "cell_type": "code",
   "execution_count": 202,
   "metadata": {},
   "outputs": [],
   "source": [
    "# Introduction to list datatype"
   ]
  },
  {
   "cell_type": "code",
   "execution_count": 203,
   "metadata": {},
   "outputs": [],
   "source": [
    "# A list is a collection of items in a particular order. \n",
    "# List is defined by using ---> []\n",
    "# List is an mutable datatype (can be updated once it is created)."
   ]
  },
  {
   "cell_type": "code",
   "execution_count": 204,
   "metadata": {},
   "outputs": [
    {
     "name": "stdout",
     "output_type": "stream",
     "text": [
      "['rohit', 'rahul', 'pujura', 'virat', 'rahane', 'pant', 'jadeja', 'ashwin', 'shami', 'ishant', 'bumrah']\n"
     ]
    }
   ],
   "source": [
    "# creating list and printing\n",
    "test_team = ['rohit','rahul','pujura','virat','rahane','pant','jadeja','ashwin','shami','ishant','bumrah']\n",
    "print(test_team)"
   ]
  },
  {
   "cell_type": "code",
   "execution_count": 205,
   "metadata": {},
   "outputs": [
    {
     "data": {
      "text/plain": [
       "list"
      ]
     },
     "execution_count": 205,
     "metadata": {},
     "output_type": "execute_result"
    }
   ],
   "source": [
    "# opening batsman's name from list# check datatype (validate & verify)\n",
    "type(test_team)"
   ]
  },
  {
   "cell_type": "code",
   "execution_count": 206,
   "metadata": {},
   "outputs": [
    {
     "name": "stdout",
     "output_type": "stream",
     "text": [
      "rohit\n"
     ]
    }
   ],
   "source": [
    "# accessing elements of list by index/position\n",
    "# list index starts from 0,1,2,...\n",
    "# req: access first element from list\n",
    "print(test_team[0])"
   ]
  },
  {
   "cell_type": "code",
   "execution_count": 207,
   "metadata": {},
   "outputs": [
    {
     "name": "stdout",
     "output_type": "stream",
     "text": [
      "Virat\n"
     ]
    }
   ],
   "source": [
    "# req: access captain's name from list and also print it in proper format (Naming convension)\n",
    "print(test_team[3].title())"
   ]
  },
  {
   "cell_type": "code",
   "execution_count": 208,
   "metadata": {},
   "outputs": [
    {
     "name": "stdout",
     "output_type": "stream",
     "text": [
      "PANT\n"
     ]
    }
   ],
   "source": [
    "# req: access wicketkeeper's name from list and also print it in block letters (All Caps)\n",
    "print(test_team[5].upper())"
   ]
  },
  {
   "cell_type": "code",
   "execution_count": 209,
   "metadata": {},
   "outputs": [
    {
     "name": "stdout",
     "output_type": "stream",
     "text": [
      "bumrah\n"
     ]
    }
   ],
   "source": [
    "# accessing list elements by negative indexing\n",
    "# negative indexing stats from end of list -1,-2,-3,...\n",
    "# req: access last batsman in team ()\n",
    "print(test_team[-1])"
   ]
  },
  {
   "cell_type": "code",
   "execution_count": 210,
   "metadata": {},
   "outputs": [
    {
     "name": "stdout",
     "output_type": "stream",
     "text": [
      "jadeja\n"
     ]
    }
   ],
   "source": [
    "# req: access 5th batsman from last\n",
    "print(test_team[-5])"
   ]
  },
  {
   "cell_type": "code",
   "execution_count": 211,
   "metadata": {},
   "outputs": [
    {
     "name": "stdout",
     "output_type": "stream",
     "text": [
      "['rohit', 'rahul', 'pujura', 'virat', 'rahane', 'pant', 'jadeja', 'ashwin', 'shami', 'ishant', 'bumrah']\n"
     ]
    }
   ],
   "source": [
    "# changing, adding and removing elements from list\n",
    "odi_team = test_team\n",
    "print(odi_team)"
   ]
  },
  {
   "cell_type": "code",
   "execution_count": 212,
   "metadata": {},
   "outputs": [
    {
     "name": "stdout",
     "output_type": "stream",
     "text": [
      "['rohit', 'rahul', 'dhawan', 'virat', 'rahane', 'pant', 'jadeja', 'ashwin', 'shami', 'ishant', 'bumrah']\n"
     ]
    }
   ],
   "source": [
    "# replace 'pujura' by 'dhawan' in odi team\n",
    "odi_team[2] ='dhawan'\n",
    "print(odi_team)"
   ]
  },
  {
   "cell_type": "code",
   "execution_count": 213,
   "metadata": {},
   "outputs": [
    {
     "data": {
      "text/plain": [
       "'shami'"
      ]
     },
     "execution_count": 213,
     "metadata": {},
     "output_type": "execute_result"
    }
   ],
   "source": [
    "# remove 'ishant' from odi team\n",
    "odi_team.pop(-3)"
   ]
  },
  {
   "cell_type": "code",
   "execution_count": 214,
   "metadata": {},
   "outputs": [
    {
     "name": "stdout",
     "output_type": "stream",
     "text": [
      "['rohit', 'rahul', 'dhawan', 'virat', 'rahane', 'pant', 'jadeja', 'ashwin', 'ishant', 'bumrah']\n"
     ]
    }
   ],
   "source": [
    "print(odi_team)"
   ]
  },
  {
   "cell_type": "code",
   "execution_count": 215,
   "metadata": {},
   "outputs": [
    {
     "name": "stdout",
     "output_type": "stream",
     "text": [
      "['rohit', 'rahul', 'dhawan', 'virat', 'pant', 'jadeja', 'ashwin', 'ishant', 'bumrah']\n"
     ]
    }
   ],
   "source": [
    "# remove 'rahane' from odi team\n",
    "odi_team.remove('rahane')\n",
    "print(odi_team)"
   ]
  },
  {
   "cell_type": "code",
   "execution_count": 216,
   "metadata": {},
   "outputs": [
    {
     "name": "stdout",
     "output_type": "stream",
     "text": [
      "['rohit', 'rahul', 'dhawan', 'virat', 'pant', 'hardik', 'jadeja', 'ashwin', 'ishant', 'bumrah']\n"
     ]
    }
   ],
   "source": [
    "# add 'hardik' as 6th batsman in odi team\n",
    "odi_team.insert(5,'hardik')\n",
    "print(odi_team)"
   ]
  },
  {
   "cell_type": "code",
   "execution_count": 217,
   "metadata": {},
   "outputs": [
    {
     "name": "stdout",
     "output_type": "stream",
     "text": [
      "['rohit', 'rahul', 'dhawan', 'virat', 'pant', 'hardik', 'jadeja', 'ashwin', 'ishant', 'bumrah', 'kuldeep']\n"
     ]
    }
   ],
   "source": [
    "# add 'kuldeep' in odi team as last batsman\n",
    "odi_team.append('kuldeep')  #append will always add enement at the end of list\n",
    "print(odi_team)"
   ]
  },
  {
   "cell_type": "code",
   "execution_count": 218,
   "metadata": {},
   "outputs": [
    {
     "name": "stdout",
     "output_type": "stream",
     "text": [
      "['rohit', 'dhawan', 'virat', 'pant', 'hardik', 'jadeja', 'ashwin', 'ishant', 'bumrah', 'kuldeep']\n"
     ]
    }
   ],
   "source": [
    "# sort the list in correct order, i.e., sort according to batsman postion (from opener to last batsman)\n",
    "temp = odi_team.pop(1)\n",
    "print(odi_team)"
   ]
  },
  {
   "cell_type": "code",
   "execution_count": 219,
   "metadata": {},
   "outputs": [
    {
     "name": "stdout",
     "output_type": "stream",
     "text": [
      "['rohit', 'dhawan', 'virat', 'rahul', 'pant', 'hardik', 'jadeja', 'ashwin', 'ishant', 'bumrah', 'kuldeep']\n"
     ]
    }
   ],
   "source": [
    "odi_team.insert(3,temp)\n",
    "print(odi_team)"
   ]
  },
  {
   "cell_type": "code",
   "execution_count": null,
   "metadata": {},
   "outputs": [],
   "source": []
  }
 ],
 "metadata": {
  "kernelspec": {
   "display_name": "Python 3",
   "language": "python",
   "name": "python3"
  },
  "language_info": {
   "codemirror_mode": {
    "name": "ipython",
    "version": 3
   },
   "file_extension": ".py",
   "mimetype": "text/x-python",
   "name": "python",
   "nbconvert_exporter": "python",
   "pygments_lexer": "ipython3",
   "version": "3.7.3"
  }
 },
 "nbformat": 4,
 "nbformat_minor": 2
}
